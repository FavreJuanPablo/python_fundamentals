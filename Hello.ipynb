print("Mi nombre es Juan Pablo Favre")
print("Somos lo que hacemos para cambiar lo que somos!!")
