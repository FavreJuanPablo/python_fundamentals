{
 "cells": [
  {
   "cell_type": "code",
   "execution_count": null,
   "metadata": {},
   "outputs": [],
   "source": [
    "print(\"Mi nombre es Juan Pablo Favre\")\n",
    "print(\"La suerte se construye, con disciplina, esfuerzo y decisiones inteligentes!\")\n",
    "\n",
    "a=\"Hola Mundo\"\n",
    "print(a)"
   ]
  }
 ],
 "metadata": {
  "language_info": {
   "name": "python"
  }
 },
 "nbformat": 4,
 "nbformat_minor": 2
}
